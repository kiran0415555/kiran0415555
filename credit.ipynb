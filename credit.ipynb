pip install pandas scikit-learn matplotlib seabornimport pandas as pd
import numpy as np
import seaborn as sns
import matplotlib.pyplot as plt
from sklearn.model_selection import train_test_split
from sklearn.preprocessing import StandardScaler
from sklearn.linear_model import LogisticRegression
from sklearn.metrics import confusion_matrix, classification_report, roc_auc_score
from sklearn.utils import resample

# Load dataset
data = pd.read_csv('C:\\Users\\Laddu\\OneDrive\\Desktop\\151\\creditcard.csv')

# Show basic info about the dataset
print(data.info())
print(data.describe())  sns.countplot(x='Class', data=data)
plt.title('Class Distribution: 0 - Non-Fraud, 1 - Fraud')
plt.show()

# Feature scaling - Standardize the 'Amount' and 'Time' columns
scaler = StandardScaler()
data['Scaled_Amount'] = scaler.fit_transform(data['Amount'].values.reshape(-1, 1))
data['Scaled_Time'] = scaler.fit_transform(data['Time'].values.reshape(-1, 1))

# Drop the original 'Amount' and 'Time' columns
data = data.drop(columns=['Amount', 'Time'])

# Split data into features (X) and target (y)
X = data.drop(columns=['Class'])
y = data['Class']   # Combine the positive (fraud) and negative (non-fraud) samples
fraud = data[data['Class'] == 1]
non_fraud = data[data['Class'] == 0]

# Upsample minority class
fraud_upsampled = resample(fraud, 
                           replace=True,    # sample with replacement
                           n_samples=len(non_fraud),  # match number of non-fraud samples
                           random_state=42)  # for reproducibility

# Combine the upsampled minority class with the majority class
data_balanced = pd.concat([non_fraud, fraud_upsampled])

# Split into X and y for the balanced dataset
X_balanced = data_balanced.drop(columns=['Class'])
y_balanced = data_balanced['Class']
# Train-test split
X_train, X_test, y_train, y_test = train_test_split(X_balanced, y_balanced, test_size=0.2, random_state=42)

# Train a Logistic Regression model
model = LogisticRegression(max_iter=1000)
model.fit(X_train, y_train)

# Predict on the test set
y_pred = model.predict(X_test)   # Confusion Matrix
conf_matrix = confusion_matrix(y_test, y_pred)
sns.heatmap(conf_matrix, annot=True, fmt='d', cmap='Blues', xticklabels=['Non-Fraud', 'Fraud'], yticklabels=['Non-Fraud', 'Fraud'])
plt.title('Confusion Matrix')
plt.show()

# Classification Report
print(classification_report(y_test, y_pred))

# ROC AUC Score
roc_auc = roc_auc_score(y_test, model.predict_proba(X_test)[:, 1])
print(f'ROC AUC Score: {roc_auc:.4f}')
