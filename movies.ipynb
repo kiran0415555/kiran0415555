import pandas as pd

file_path = r'C:\Users\Laddu\OneDrive\Desktop\151\movies.csv'

try:
    # Load the dataset with a different encoding
    data = pd.read_csv(file_path, encoding='latin1')  # or 'utf-8'
    print(data.head())
except FileNotFoundError:
    print(f"File not found: {file_path}")
except UnicodeDecodeError as e:
    print(f"Unicode decoding error: {e}")    print(data.info())
print(data.head(10))    print(data.isnull().sum())

# Example: Drop rows with missing values
data_cleaned = data.dropna()   # If the first row is not a header, you can set the correct headers manually
new_header = ['Name', 'Year', 'Duration', 'Genre', 'Rating', 'Votes', 'Director', 'Actor 1', 'Actor 2', 'Actor 3']
data.columns = new_header
data = data[1:]  # Skip the first row if it was not needed  data['Duration'] = data['Duration'].astype(str)   # Replace ' min' and convert to float
data['Duration'] = data['Duration'].str.replace(' min', '').astype(float)

# Handle NaN values by filling them with a default value or dropping them
data['Duration'] = data['Duration'].fillna(0).astype(int)  # Fill NaN with 0 and convert to int   print(data['Duration'].unique())  # Replace any unexpected entries (e.g., empty strings) with NaN
data['Duration'] = data['Duration'].replace('', np.nan)

# Now you can apply the previous conversions
data['Duration'] = data['Duration'].astype(str).str.replace(' min', '').astype(float)
data['Duration'] = data['Duration'].fillna(0).astype(int)  print(data.info())
print(data.head(10))
